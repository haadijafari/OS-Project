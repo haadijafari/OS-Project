{
 "cells": [
  {
   "attachments": {},
   "cell_type": "markdown",
   "metadata": {},
   "source": [
    "OS Project\n",
    "\n",
    "Hadi Jafari: 4001901108 <br>\n",
    "Koosha Naji: 4001901131"
   ]
  },
  {
   "attachments": {},
   "cell_type": "markdown",
   "metadata": {},
   "source": [
    "## Race Condition & Deadlock in operating system"
   ]
  },
  {
   "attachments": {},
   "cell_type": "markdown",
   "metadata": {},
   "source": [
    "Deadlock = بن بست <br>\n",
    "Race condition = انحصار متقابل"
   ]
  },
  {
   "attachments": {},
   "cell_type": "markdown",
   "metadata": {},
   "source": [
    "## Deadlock Example"
   ]
  },
  {
   "cell_type": "code",
   "execution_count": 1,
   "metadata": {},
   "outputs": [
    {
     "name": "stdout",
     "output_type": "stream",
     "text": [
      "process 1 resource A\n",
      "process 2 resource B\n"
     ]
    }
   ],
   "source": [
    "import threading\n",
    "from time import sleep\n",
    "\n",
    "# Shared resources\n",
    "resource_A = threading.Lock()\n",
    "resource_B = threading.Lock()\n",
    "\n",
    "# Function for process 1\n",
    "def process_1():\n",
    "    resource_A.acquire()\n",
    "    print ('Process 1 resource A')\n",
    "    sleep(1)\n",
    "    resource_B.acquire()\n",
    "    print ('Process 1 resource B')\n",
    "\n",
    "# Function for process 2\n",
    "def process_2():\n",
    "    resource_B.acquire()\n",
    "    print ('Process 2 resource B')\n",
    "    sleep(1)\n",
    "    resource_A.acquire()\n",
    "    print ('Process 2 resource A')\n",
    "    \n",
    "    \n",
    "# Create threads for the processes\n",
    "thread_1 = threading.Thread(target=process_1)\n",
    "thread_2 = threading.Thread(target=process_2)\n",
    "\n",
    "# Start the threads\n",
    "thread_1.start()\n",
    "thread_2.start()\n",
    "\n",
    "# Wait for threads to finish\n",
    "thread_1.join()\n",
    "thread_2.join()\n",
    "\n",
    "print('end')"
   ]
  },
  {
   "attachments": {},
   "cell_type": "markdown",
   "metadata": {},
   "source": [
    "## Race Condition Example"
   ]
  },
  {
   "cell_type": "code",
   "execution_count": 2,
   "metadata": {},
   "outputs": [
    {
     "name": "stdout",
     "output_type": "stream",
     "text": [
      "Iteration 0: x = 1563012\n",
      "Iteration 1: x = 1859001\n",
      "Iteration 2: x = 1755072\n",
      "Iteration 3: x = 2000000\n",
      "Iteration 4: x = 1534846\n",
      "Iteration 5: x = 1602142\n",
      "Iteration 6: x = 1711954\n",
      "Iteration 7: x = 1704891\n",
      "Iteration 8: x = 1828532\n",
      "Iteration 9: x = 1805030\n"
     ]
    }
   ],
   "source": [
    "import threading\n",
    "\n",
    "x = 0\n",
    "\n",
    "# Increment the global x variable\n",
    "def increment():\n",
    "    global x\n",
    "    x += 1\n",
    "\n",
    "# Increments the global x variable 1 million times\n",
    "def thread_task():\n",
    "    for _ in range(1_000_000):\n",
    "        increment()\n",
    "\n",
    "def main_task():\n",
    "    global x\n",
    "    x = 0\n",
    "    \n",
    "    # Create 2 threads for incrementation\n",
    "    t1 = threading.Thread(target=thread_task)\n",
    "    t2 = threading.Thread(target=thread_task)\n",
    "\n",
    "    # Start the threads\n",
    "    t1.start()\n",
    "    t2.start()\n",
    "    \n",
    "    # Wait for threads to finish\n",
    "    t1.join()\n",
    "    t2.join()\n",
    "\n",
    "\n",
    "# Tests the main task for 10 times and prints the results\n",
    "for i in range(10):\n",
    "    main_task()\n",
    "    print(\"Iteration {0}: x = {1}\".format(i,x))\n"
   ]
  },
  {
   "attachments": {},
   "cell_type": "markdown",
   "metadata": {},
   "source": [
    "## Deadlock Solvation"
   ]
  },
  {
   "cell_type": "code",
   "execution_count": 2,
   "metadata": {},
   "outputs": [
    {
     "name": "stdout",
     "output_type": "stream",
     "text": [
      "Random turn = 2\n",
      "Process 2 resource B\n",
      "Process 2 resource A\n",
      "Process 2 resource B released\n",
      "Process 2 resource A released\n",
      "Process 1 resource A\n",
      "Process 1 resource B\n",
      "Process 1 resource A released\n",
      "Process 1 resource B released\n",
      "end\n"
     ]
    }
   ],
   "source": [
    "import threading\n",
    "from time import sleep\n",
    "import random\n",
    "\n",
    "turn = random.randint(1,2)\n",
    "print('Random turn = {}'.format(turn))\n",
    "\n",
    "# Shared resources\n",
    "resource_A = threading.Lock()\n",
    "resource_B = threading.Lock()\n",
    "\n",
    "# Function for process 1\n",
    "def process_1():\n",
    "    global turn\n",
    "    while turn != 1:\n",
    "        continue\n",
    "    resource_A.acquire()\n",
    "    print ('Process 1 resource A')\n",
    "    sleep(1)\n",
    "    resource_B.acquire()\n",
    "    print ('Process 1 resource B')\n",
    "    # Release resources\n",
    "    resource_A.release()\n",
    "    print('Process 1 resource A released')\n",
    "    resource_B.release()\n",
    "    print('Process 1 resource B released')\n",
    "    turn = 2\n",
    "\n",
    "# Function for process 2\n",
    "def process_2():\n",
    "    global turn\n",
    "    while turn != 2:\n",
    "        continue\n",
    "    resource_B.acquire()\n",
    "    print ('Process 2 resource B')\n",
    "    sleep(1)\n",
    "    resource_A.acquire()\n",
    "    print ('Process 2 resource A')\n",
    "    # Release resources\n",
    "    resource_B.release()\n",
    "    print('Process 2 resource B released')\n",
    "    resource_A.release()\n",
    "    print('Process 2 resource A released')\n",
    "    turn = 1\n",
    "    \n",
    "    \n",
    "# Create threads for the processes\n",
    "thread_1 = threading.Thread(target=process_1)\n",
    "thread_2 = threading.Thread(target=process_2)\n",
    "\n",
    "# Start the threads\n",
    "thread_1.start()\n",
    "thread_2.start()\n",
    "\n",
    "# Wait for threads to finish\n",
    "thread_1.join()\n",
    "thread_2.join()\n",
    "\n",
    "print('end')"
   ]
  },
  {
   "attachments": {},
   "cell_type": "markdown",
   "metadata": {},
   "source": [
    "## Other solutions"
   ]
  },
  {
   "attachments": {},
   "cell_type": "markdown",
   "metadata": {},
   "source": [
    "Deadlock conditions:<br>\n",
    "   انحصار متقابل<br>\n",
    "   نگهداشت و انتظار<br>\n",
    "   قبضه نکردن<br>\n",
    "   انتظار مدور<br>\n",
    "<br><br>Deadlock Solutions:\n",
    "1. Deadlock Avoidance:\n",
    "   - Violation of deadlock conditions\n",
    "   - Don't run threads with probable deadlock acquire\n",
    "   - Don't acquire a resource in which acquireing comes to deadlock\n",
    "<br><br>\n",
    "2. Deadlock Detection and Recovery:\n",
    "   - Detection: Resource Allocation Graph algorithm or the Banker's Algorithm\n",
    "   - Recovery methods: process termination, resource preemption, or rollback\n",
    "   <br>\n",
    "   <br>\n",
    "   + more flexibility in resource allocation\n",
    "   + may incur overhead due to deadlock detection and recovery mechanisms.\n",
    "\n",
    "Regarding which solution is better, it depends on the specific requirements and characteristics of the system.<br>The Banker's Algorithm and Deadlock Detection/Recovery approach are widely used and have their strengths and weaknesses:\n",
    "\n",
    "- Banker's Algorithm is a proactive approach that prevents the occurrence of deadlocks by carefully allocating resources based on safe states. It requires knowledge of resource requirements in advance and can be more efficient in terms of resource utilization. However, it may restrict the flexibility of resource allocation and require complex resource management.\n",
    "\n",
    "- Deadlock Detection and Recovery is a reactive approach that detects and resolves deadlocks after they occur. It allows for more dynamic resource allocation and flexibility but may incur overhead due to detection and recovery mechanisms. It can be more suitable when the resource requirements of processes are not known in advance or when the system is more dynamic."
   ]
  }
 ],
 "metadata": {
  "kernelspec": {
   "display_name": "Python 3",
   "language": "python",
   "name": "python3"
  },
  "language_info": {
   "codemirror_mode": {
    "name": "ipython",
    "version": 3
   },
   "file_extension": ".py",
   "mimetype": "text/x-python",
   "name": "python",
   "nbconvert_exporter": "python",
   "pygments_lexer": "ipython3",
   "version": "3.9.13"
  },
  "orig_nbformat": 4
 },
 "nbformat": 4,
 "nbformat_minor": 2
}
